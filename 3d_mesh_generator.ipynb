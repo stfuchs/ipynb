{
 "metadata": {
  "name": "",
  "signature": "sha256:e65c94be69364e12d4c012e8e08b826e60158ab1096b19955c51c0bf8468f19a"
 },
 "nbformat": 3,
 "nbformat_minor": 0,
 "worksheets": [
  {
   "cells": [
    {
     "cell_type": "code",
     "collapsed": false,
     "input": [
      "%matplotlib inline\n",
      "from IPython.html.widgets import interactive\n",
      "from IPython.html import widgets\n",
      "from IPython.display import clear_output, display\n",
      "\n",
      "import matplotlib.pyplot as plt\n",
      "from numpy import *"
     ],
     "language": "python",
     "metadata": {},
     "outputs": [],
     "prompt_number": 2
    },
    {
     "cell_type": "code",
     "collapsed": false,
     "input": [
      "def random_generator(n_points, n_clusters, sigma_x, sigma_y, sigma_z, sigma_clusters):\n",
      "    sigma_points = [sigma_x, sigma_y, sigma_z]\n",
      "    X = zeros([n_points*n_clusters, 3])\n",
      "    for c in range(n_clusters):\n",
      "        cp = random.randn(2)*sigma_clusters\n",
      "        X[c*n_points:(c+1)*n_points,:2] += cp\n",
      "        for d in range(3):\n",
      "            X[c*n_points:(c+1)*n_points,d] += random.randn(n_points)*sigma_points[d]\n",
      "\n",
      "    from scipy.spatial import Delaunay\n",
      "    tri = Delaunay(X[:,:2])\n",
      "    fig,ax = plt.subplots(figsize=(12,12))\n",
      "    ax.triplot(X[:,0], X[:,1], tri.vertices.copy())\n",
      "    ax.plot(X[:,0], X[:,1], 'o')\n",
      "    tri.points = X\n",
      "    return tri\n",
      "\n",
      "w = interactive(random_generator,\n",
      "                n_points=(1,100,1),\n",
      "                n_clusters=(1,10,1),\n",
      "                sigma_x=widgets.FloatTextWidget(value=1.1),\n",
      "                sigma_y=widgets.FloatTextWidget(value=1.1),\n",
      "                sigma_z=widgets.FloatTextWidget(value=.1),\n",
      "                sigma_clusters=widgets.FloatTextWidget(value=2.5))\n"
     ],
     "language": "python",
     "metadata": {},
     "outputs": [],
     "prompt_number": 3
    },
    {
     "cell_type": "code",
     "collapsed": false,
     "input": [
      "def tri2ply(tri,filename):\n",
      "    n_p = len(tri.points)\n",
      "    n_v = len(tri.vertices)\n",
      "    f = open(filename,'w')\n",
      "    f.write(\"ply\\n\")\n",
      "    f.write(\"format ascii 1.0\\n\")\n",
      "    f.write(\"element vertex {0}\\n\".format(n_p))\n",
      "    f.write(\"property float x\\n\")\n",
      "    f.write(\"property float y\\n\")\n",
      "    f.write(\"property float z\\n\")\n",
      "    f.write(\"element face {0}\\n\".format(n_v))\n",
      "    f.write(\"property list uchar int vertex_indices\\n\")\n",
      "    f.write(\"end_header\\n\")\n",
      "    indices = hstack( [array([[3]]*n_v), tri.vertices] )\n",
      "    for i in range(n_p):\n",
      "        tri.points[i,:].tofile(f, sep=\" \")\n",
      "        f.write(\"\\n\")\n",
      "    for i in range(n_v):\n",
      "        indices[i,:].tofile(f, sep=\" \")\n",
      "        f.write(\"\\n\")\n",
      "    print \"wrote mesh to \"+filename\n",
      "    f.close()\n",
      "        \n",
      "def set_filename(filename):\n",
      "    return filename\n",
      "\n",
      "w_name = interactive(set_filename, filename = widgets.TextWidget(value='rand_mesh.ply'))\n",
      "w_save = widgets.ButtonWidget(description='Save')\n",
      "\n",
      "def save(b): tri2ply(w.result,w_name.result)\n",
      "w_save.on_click(save)"
     ],
     "language": "python",
     "metadata": {},
     "outputs": [],
     "prompt_number": 4
    },
    {
     "cell_type": "code",
     "collapsed": false,
     "input": [
      "display(w)\n",
      "display(w_name)\n",
      "display(w_save)"
     ],
     "language": "python",
     "metadata": {},
     "outputs": [],
     "prompt_number": 6
    },
    {
     "cell_type": "code",
     "collapsed": false,
     "input": [],
     "language": "python",
     "metadata": {},
     "outputs": []
    }
   ],
   "metadata": {}
  }
 ]
}