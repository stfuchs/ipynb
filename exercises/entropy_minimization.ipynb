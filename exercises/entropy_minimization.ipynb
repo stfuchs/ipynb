{
 "metadata": {
  "name": "",
<<<<<<< HEAD
  "signature": "sha256:108f6f2159d5f064809f04a8ac9aff62a47790a75f68a868493a55e40034fcf1"
=======
  "signature": "sha256:0168c699b6fcd767a2670544b2153dbd629f22618e0211a2fb0d6b7e1201dc1d"
>>>>>>> efeb392c5d7a72e6d9e79ee90f25f2bf0e1b6b0c
 },
 "nbformat": 3,
 "nbformat_minor": 0,
 "worksheets": [
  {
   "cells": [
    {
     "cell_type": "code",
     "collapsed": false,
     "input": [
      "%matplotlib inline\n",
      "#from IPython.html.widgets import interactive, interact\n",
      "import numpy as np\n",
      "import numpy.random as rnd\n",
      "import matplotlib.pyplot as plt"
     ],
     "language": "python",
     "metadata": {},
     "outputs": [],
<<<<<<< HEAD
     "prompt_number": 1
=======
     "prompt_number": 24
>>>>>>> efeb392c5d7a72e6d9e79ee90f25f2bf0e1b6b0c
    },
    {
     "cell_type": "code",
     "collapsed": false,
     "input": [
      "def normalize(x):\n",
      "    if(len(x.shape)==2):\n",
      "        return (x.T/np.sum(x,axis=1)).T\n",
      "    else:\n",
      "        return (x/np.sum(x))\n",
      "\n",
      "def entropy(p):\n",
      "    return - np.sum(p*np.nan_to_num(log(p)))\n",
      "\n",
      "def measure(f,noise=1.,shuffle=True):\n",
      "    n,k = f.shape\n",
      "    err = noise*rnd.rand(n,k)\n",
<<<<<<< HEAD
      "    idx = range(k)\n",
=======
      "    idx = np.array(range(k))\n",
>>>>>>> efeb392c5d7a72e6d9e79ee90f25f2bf0e1b6b0c
      "    idx_true = np.array(range(k))\n",
      "    if shuffle:\n",
      "        rnd.shuffle(idx)\n",
      "        idx_true = list(idx_true[np.argsort(idx)])\n",
      "    idx = list(idx)\n",
      "    Z = f[:,idx]\n",
      "    print(\"Z -> F: %s \\tF -> Z: %s\"%(idx_true,idx))\n",
      "    return normalize(Z+err),idx_true\n",
      "\n",
      "def predict(X,prob):\n",
      "    n,k=X.shape\n",
      "    p_t = np.ones([k,k])*(1.-prob)/(k-1.)\n",
      "    p_t[np.diag_indices_from(p_t)]=prob\n",
      "    for p in X:\n",
      "        p = p_t.dot(p)\n",
      "    return X\n",
      "\n",
      "def maxmax(M):\n",
      "    n,k = M.shape\n",
      "    v_min = 0\n",
      "    f = [np.argmax]*k\n",
      "    idx = [0]*k\n",
      "    for fi in f:\n",
      "        i,j = np.unravel_index(fi(M),M.shape)\n",
      "        M[i,:] = v_min\n",
      "        M[:,j] = v_min\n",
      "        idx[i]=j\n",
      "    return idx\n",
      "\n",
      "def maxmin(M):\n",
      "    n,k = M.shape\n",
      "    v_max = M.max()\n",
      "    f = [np.argmin]*k\n",
      "    f[0] = np.argmax\n",
      "    idx = [0]*k\n",
      "    for fi in f:\n",
      "        i,j = np.unravel_index(fi(M),M.shape)\n",
      "        M[i,:] = v_max\n",
      "        M[:,j] = v_max\n",
      "        idx[i]=j\n",
      "    return idx\n",
      "\n",
      "def indices(X,Z):\n",
      "    n,k=X.shape\n",
      "    cov = np.zeros([k,k])\n",
      "    for x,z in zip(X,Z):\n",
      "        #print(\"z=%s x=%s\"%(z,x))\n",
      "        cov += np.mat(x).T*np.mat(z)\n",
      "    idx = maxmax(cov)\n",
      "    print(\"Z -> X: %s\"%idx)\n",
      "    return idx\n",
      "\n",
      "def correlation(X,Z):\n",
      "    n,k=X.shape\n",
      "    corr = np.mat(np.zeros([k,k]))\n",
      "    for x,z in zip(X,Z):\n",
      "        corr += np.mat(x).T*np.mat(z)\n",
      "    return corr\n",
      "\n",
      "def update(X,A,Z):\n",
      "    res = np.zeros(X.shape)\n",
      "    for x,z,i in zip(X,Z,range(X.shape[0])):\n",
      "        res[i] = (A*np.mat(z).T).T\n",
      "        #print(\"%s, %s, %s\"%(r,x,z))\n",
      "    #print(res)\n",
      "    return normalize(res)\n",
      "\n",
      "def bruteforce(X,Z):\n",
      "    n,k=X.shape\n",
      "    Ah=np.array([[(0, 0),(0, 1),(0, 2),(0, 0),(0, 1),(0, 2)],\n",
      "                 [(1, 1),(1, 2),(1, 0),(1, 2),(1, 0),(1, 1)],\n",
      "                 [(2, 2),(2, 0),(2, 1),(2, 1),(2, 2),(2, 0)]])\n",
      "    A = (Ah[:,:,0]*K+Ah[:,:,1]).T\n",
      "    H = np.zeros([6,1])\n",
      "    for x,z in zip(X,Z):\n",
      "        cov = np.mat(x).T*np.mat(z)\n",
      "        #print(\"z=%s x=%s\"%(z,x))\n",
      "        zx = np.zeros([6,3])\n",
      "        for i in range(6):\n",
      "            zx[i,:] = cov[np.unravel_index(A[i,:],cov.shape)]\n",
      "            H[i] += entropy(normalize(zx[i,:]))\n",
      "            #print(\"%s,\\tH=%s\"%(zx[i,:],H[i]))\n",
      "        #print(\"\")\n",
      "    print(\"H(x,w) = %s\"%H.T)\n",
      "    w = np.argmin(H)\n",
      "    idx = list(Ah[:,w,1])\n",
      "    print(\"Bruteforce:\\t%s\"%idx)\n",
      "    return idx\n",
      "    #print(np.unravel_index(A[,:],(k,k)))"
     ],
     "language": "python",
     "metadata": {},
     "outputs": [],
<<<<<<< HEAD
     "prompt_number": 36
    },
    {
     "cell_type": "code",
     "collapsed": false,
     "input": [
      "np.set_printoptions(precision=3,suppress=True)\n",
      "K = 4 # number of clusters\n",
      "N = 10 # number of features\n",
      "measurement_noise = .1\n",
      "F=np.zeros([N,K])\n",
      "for i,v in enumerate(rnd.randint(0,K,N)): F[i,v]=1\n",
      "print(F.T)\n",
      "\n",
      "X,idx_true = measure(F,measurement_noise,False)\n",
      "for x in X.T: print(x)\n",
      "print(\"\")\n",
      "\n",
      "for i in range(5):\n",
      "    Z,idx_true = measure(F,measurement_noise)\n",
      "    X = predict(X,.4)\n",
      "    A = correlation(X,Z)\n",
      "    X = update(X,A,Z)\n",
      "    for x in X.T: print(x)"
     ],
     "language": "python",
     "metadata": {},
     "outputs": [
      {
       "output_type": "stream",
       "stream": "stdout",
       "text": [
        "[[ 0.  1.  0.  0.  0.  0.  0.  1.  0.  1.]\n",
        " [ 0.  0.  1.  0.  0.  1.  0.  0.  0.  0.]\n",
        " [ 0.  0.  0.  0.  0.  0.  0.  0.  1.  0.]\n",
        " [ 1.  0.  0.  1.  1.  0.  1.  0.  0.  0.]]\n",
        "Z -> F: [0 1 2 3] \tF -> Z: [0, 1, 2, 3]\n",
        "[ 0.043  0.865  0.072  0.038  0.031  0.031  0.046  0.9    0.073  0.86 ]\n",
        "[ 0.     0.008  0.867  0.077  0.062  0.91   0.03   0.079  0.046  0.074]\n",
        "[ 0.058  0.055  0.042  0.026  0.036  0.011  0.016  0.018  0.821  0.043]\n",
        "[ 0.899  0.071  0.019  0.86   0.87   0.047  0.909  0.002  0.06   0.023]\n",
        "\n",
        "Z -> F: [3, 1, 0, 2] \tF -> Z: [2, 1, 3, 0]\n",
        "[ 0.128  0.717  0.133  0.102  0.099  0.1    0.1    0.717  0.194  0.71 ]\n",
        "[ 0.057  0.089  0.697  0.077  0.083  0.723  0.057  0.085  0.13   0.074]\n",
        "[ 0.051  0.054  0.053  0.053  0.045  0.057  0.052  0.065  0.454  0.058]\n",
        "[ 0.764  0.14   0.118  0.769  0.773  0.12   0.79   0.133  0.222  0.158]\n",
        "Z -> F: [1, 0, 2, 3] \tF -> Z: [1, 0, 2, 3]\n",
        "[ 0.135  0.612  0.183  0.154  0.129  0.159  0.147  0.625  0.227  0.634]\n",
        "[ 0.11   0.113  0.515  0.113  0.105  0.506  0.11   0.105  0.171  0.118]\n",
        "[ 0.06   0.068  0.062  0.057  0.063  0.074  0.063  0.067  0.271  0.064]\n",
        "[ 0.695  0.207  0.239  0.676  0.703  0.261  0.68   0.203  0.33   0.184]\n",
        "Z -> F: [1, 3, 2, 0] \tF -> Z: [3, 0, 2, 1]\n",
        "[ 0.178  0.567  0.201  0.164  0.173  0.198  0.16   0.56   0.227  0.556]\n",
        "[ 0.129  0.122  0.419  0.121  0.123  0.448  0.117  0.134  0.197  0.121]\n",
        "[ 0.065  0.07   0.077  0.068  0.067  0.076  0.066  0.068  0.175  0.068]\n",
        "[ 0.628  0.241  0.304  0.648  0.637  0.278  0.657  0.238  0.401  0.255]\n",
        "Z -> F: [0, 3, 1, 2] \tF -> Z: [0, 2, 3, 1]\n",
        "[ 0.202  0.494  0.23   0.183  0.197  0.233  0.194  0.488  0.252  0.509]\n",
        "[ 0.127  0.146  0.369  0.132  0.132  0.366  0.138  0.139  0.208  0.142]\n",
        "[ 0.068  0.072  0.079  0.068  0.07   0.08   0.069  0.07   0.131  0.071]\n",
        "[ 0.603  0.288  0.323  0.616  0.601  0.321  0.599  0.304  0.41   0.278]\n",
        "Z -> F: [1, 3, 0, 2] \tF -> Z: [2, 0, 3, 1]\n",
        "[ 0.218  0.425  0.263  0.211  0.219  0.261  0.226  0.44   0.288  0.435]\n",
        "[ 0.142  0.163  0.293  0.145  0.147  0.305  0.147  0.158  0.187  0.157]\n",
        "[ 0.071  0.074  0.077  0.071  0.071  0.078  0.071  0.074  0.098  0.073]\n",
        "[ 0.569  0.338  0.367  0.573  0.563  0.356  0.555  0.328  0.427  0.336]\n"
       ]
      }
     ],
     "prompt_number": 38
=======
     "prompt_number": 25
>>>>>>> efeb392c5d7a72e6d9e79ee90f25f2bf0e1b6b0c
    },
    {
     "cell_type": "code",
     "collapsed": false,
     "input": [
      "np.set_printoptions(precision=3,suppress=True)\n",
      "K = 4 # number of clusters\n",
      "N = 10 # number of features\n",
      "measurement_noise = .1\n",
      "F=np.zeros([N,K])\n",
      "for i,v in enumerate(rnd.randint(0,K,N)): F[i,v]=1\n",
      "print(F.T)\n",
      "\n",
      "X,idx_true = measure(F,measurement_noise,False)\n",
      "for x in X.T: print(x)\n",
      "print(\"\")\n",
      "\n",
      "for i in range(3):\n",
      "    Z,idx_true = measure(F,measurement_noise)\n",
      "    X = predict(X,.2)\n",
      "    #idx1 = bruteforce(X,Z)\n",
      "    idx2 = indices(X,Z)\n",
      "    X = normalize(Z[:,idx2]*X)\n",
      "    #for z in Z[:,idx_true].T: print(z)\n",
      "    #print(\"\")\n",
      "    #for x in X.T: print(x)\n",
      "    #print(\"\")\n",
      "\n",
      "print(X.T)\n",
      "print(\"\")\n",
      "\n",
      "#F=np.zeros([N,K])\n",
      "reset=10\n",
      "for i,v in zip(rnd.randint(0,N,reset),rnd.randint(0,K,reset)):\n",
      "    print(\"Reset: %s,%s\"%(i,v))\n",
      "    F[i,:]=0\n",
      "    F[i,v]=1\n",
      "print(F.T)\n",
      "for i in range(5):\n",
      "    Z,idx_true = measure(F,measurement_noise)\n",
      "    X = predict(X,.2)\n",
      "    idx2 = indices(X,Z)\n",
      "    X = normalize(Z[:,idx2]*X)\n",
      "print(X.T)\n",
      "print(\"\")"
     ],
     "language": "python",
     "metadata": {},
     "outputs": [
      {
       "output_type": "stream",
       "stream": "stdout",
       "text": [
<<<<<<< HEAD
        "[[ 0.  0.  0.  0.  0.  1.  0.  0.  0.  0.]\n",
        " [ 0.  0.  1.  0.  1.  0.  1.  1.  0.  1.]\n",
        " [ 0.  1.  0.  0.  0.  0.  0.  0.  1.  0.]\n",
        " [ 1.  0.  0.  1.  0.  0.  0.  0.  0.  0.]]\n",
        "Z -> F: [0 1 2 3] \tF -> Z: [0, 1, 2, 3]\n",
        "[ 0.036  0.074  0.056  0.079  0.021  0.926  0.008  0.079  0.016  0.07 ]\n",
        "[ 0.027  0.065  0.855  0.057  0.874  0.036  0.96   0.843  0.046  0.879]\n",
        "[ 0.074  0.803  0.081  0.021  0.03   0.007  0.     0.045  0.868  0.029]\n",
        "[ 0.864  0.058  0.008  0.843  0.074  0.031  0.032  0.032  0.071  0.022]\n",
        "\n",
        "Z -> F: [0, 2, 3, 1] \tF -> Z: [0, 3, 1, 2]\n",
        "Z -> X: [0, 2, 3, 1]\n",
        "Z -> F: [1, 2, 0, 3] \tF -> Z: [2, 0, 1, 3]\n",
        "Z -> X: [1, 2, 0, 3]\n",
        "Z -> F: [0, 1, 2, 3] \tF -> Z: [0, 1, 2, 3]\n",
        "Z -> X: [0, 1, 2, 3]\n",
        "[[ 0.  0.  0.  0.  0.  1.  0.  0.  0.  0.]\n",
        " [ 0.  0.  1.  0.  1.  0.  1.  1.  0.  1.]\n",
        " [ 0.  1.  0.  0.  0.  0.  0.  0.  1.  0.]\n",
        " [ 1.  0.  0.  1.  0.  0.  0.  0.  0.  0.]]\n",
        "\n",
        "Reset: 5,0\n",
        "Reset: 8,1\n",
        "Reset: 9,0\n",
        "Reset: 6,2\n",
        "Reset: 1,1\n",
        "Reset: 9,3\n",
        "Reset: 9,0\n",
        "Reset: 2,2\n",
        "Reset: 7,0\n",
        "Reset: 5,2\n",
        "[[ 0.  0.  0.  0.  0.  0.  0.  1.  0.  1.]\n",
        " [ 0.  1.  0.  0.  1.  0.  0.  0.  1.  0.]\n",
        " [ 0.  0.  1.  0.  0.  1.  1.  0.  0.  0.]\n",
        " [ 1.  0.  0.  1.  0.  0.  0.  0.  0.  0.]]\n",
        "Z -> F: [1, 0, 2, 3] \tF -> Z: [1, 0, 2, 3]\n",
        "Z -> X: [2, 1, 0, 3]\n",
        "Z -> F: [3, 1, 2, 0] \tF -> Z: [3, 1, 2, 0]\n",
        "Z -> X: [2, 3, 1, 0]\n",
        "Z -> F: [3, 1, 0, 2] \tF -> Z: [2, 1, 3, 0]\n",
        "Z -> X: [0, 3, 1, 2]\n",
        "Z -> F: [2, 3, 0, 1] \tF -> Z: [2, 3, 0, 1]\n",
        "Z -> X: [0, 2, 3, 1]\n",
        "Z -> F: [1, 2, 3, 0] \tF -> Z: [3, 0, 1, 2]\n",
        "Z -> X: [3, 1, 2, 0]\n",
        "[[ 0.     0.     0.983  0.     0.     1.     0.998  0.     0.     0.   ]\n",
        " [ 0.     0.     0.017  0.     0.097  0.     0.002  1.     0.     1.   ]\n",
        " [ 0.     1.     0.     0.     0.903  0.     0.     0.     1.     0.   ]\n",
        " [ 1.     0.     0.     1.     0.     0.     0.     0.     0.     0.   ]]\n",
=======
        "[[ 0.  0.  0.  0.  1.  0.  0.  0.  0.  0.]\n",
        " [ 0.  1.  1.  1.  0.  0.  0.  0.  1.  0.]\n",
        " [ 1.  0.  0.  0.  0.  0.  0.  1.  0.  0.]\n",
        " [ 0.  0.  0.  0.  0.  1.  1.  0.  0.  1.]]\n",
        "Z -> F: [0 1 2 3] \tF -> Z: [0, 1, 2, 3]\n",
        "[ 0.028  0.01   0.043  0.065  0.839  0.075  0.032  0.003  0.08   0.056]\n",
        "[ 0.013  0.878  0.84   0.876  0.062  0.055  0.035  0.013  0.839  0.054]\n",
        "[ 0.88   0.044  0.04   0.006  0.032  0.021  0.047  0.963  0.057  0.048]\n",
        "[ 0.079  0.068  0.078  0.054  0.067  0.849  0.885  0.021  0.024  0.842]\n",
        "\n",
        "Z -> F: [0, 1, 3, 2] \tF -> Z: [0, 1, 3, 2]\n",
        "Z -> X: [0, 1, 3, 2]\n",
        "Z -> F: [3, 1, 2, 0] \tF -> Z: [3, 1, 2, 0]\n",
        "Z -> X: [3, 1, 2, 0]\n",
        "Z -> F: [1, 3, 0, 2] \tF -> Z: [2, 0, 3, 1]\n",
        "Z -> X: [1, 3, 0, 2]\n",
        "[[ 0.  0.  0.  0.  1.  0.  0.  0.  0.  0.]\n",
        " [ 0.  1.  1.  1.  0.  0.  0.  0.  1.  0.]\n",
        " [ 1.  0.  0.  0.  0.  0.  0.  1.  0.  0.]\n",
        " [ 0.  0.  0.  0.  0.  1.  1.  0.  0.  1.]]\n",
        "\n",
        "Reset: 5,3\n",
        "Reset: 7,0\n",
        "Reset: 2,0\n",
        "Reset: 5,0\n",
        "Reset: 7,3\n",
        "Reset: 3,0\n",
        "Reset: 4,2\n",
        "Reset: 6,2\n",
        "Reset: 9,3\n",
        "Reset: 0,1\n",
        "[[ 0.  0.  1.  1.  0.  1.  0.  0.  0.  0.]\n",
        " [ 1.  1.  0.  0.  0.  0.  0.  0.  1.  0.]\n",
        " [ 0.  0.  0.  0.  1.  0.  1.  0.  0.  0.]\n",
        " [ 0.  0.  0.  0.  0.  0.  0.  1.  0.  1.]]\n",
        "Z -> F: [3, 1, 2, 0] \tF -> Z: [3, 1, 2, 0]\n",
        "Z -> X: [3, 1, 0, 2]\n",
        "Z -> F: [3, 0, 1, 2] \tF -> Z: [1, 2, 3, 0]\n",
        "Z -> X: [2, 3, 0, 1]\n",
        "Z -> F: [1, 3, 0, 2] \tF -> Z: [2, 0, 3, 1]\n",
        "Z -> X: [2, 1, 3, 0]\n",
        "Z -> F: [3, 2, 0, 1] \tF -> Z: [2, 3, 1, 0]\n",
        "Z -> X: [2, 3, 1, 0]\n",
        "Z -> F: [0, 2, 1, 3] \tF -> Z: [0, 2, 1, 3]\n",
        "Z -> X: [0, 2, 3, 1]\n",
        "[[ 0.     0.     0.     0.     0.     0.     0.     0.     0.     0.019]\n",
        " [ 0.     1.     1.     1.     0.     0.     0.     0.     1.     0.   ]\n",
        " [ 1.     0.     0.     0.     0.     0.     0.     1.     0.     0.048]\n",
        " [ 0.     0.     0.     0.     1.     1.     1.     0.     0.     0.933]]\n",
>>>>>>> efeb392c5d7a72e6d9e79ee90f25f2bf0e1b6b0c
        "\n"
       ]
      }
     ],
<<<<<<< HEAD
     "prompt_number": 30
    },
    {
     "cell_type": "code",
     "collapsed": false,
     "input": [
      "rnd.randint(0,N,4)"
     ],
     "language": "python",
     "metadata": {},
     "outputs": [
      {
       "metadata": {},
       "output_type": "pyout",
       "prompt_number": 475,
       "text": [
        "array([6, 5, 2, 0])"
       ]
      }
     ],
     "prompt_number": 475
    },
    {
     "cell_type": "code",
     "collapsed": false,
     "input": [],
     "language": "python",
     "metadata": {},
     "outputs": [
      {
       "metadata": {},
       "output_type": "pyout",
       "prompt_number": 382,
       "text": [
        "array([[ 1.,  0.,  0.],\n",
        "       [ 1.,  0.,  0.],\n",
        "       [ 1.,  0.,  0.],\n",
        "       [ 0.,  1.,  0.],\n",
        "       [ 0.,  1.,  0.],\n",
        "       [ 0.,  1.,  0.],\n",
        "       [ 1.,  0.,  0.],\n",
        "       [ 1.,  0.,  0.],\n",
        "       [ 0.,  0.,  1.]])"
       ]
      }
     ],
     "prompt_number": 382
    },
    {
     "cell_type": "code",
     "collapsed": false,
     "input": [
      "shuffle = range(F.shape[1])\n",
      "rnd.shuffle(shuffle)\n",
      "deshuff = array(range(F.shape[1]))\n",
      "deshuff = deshuff[np.argsort(shuffle)]\n",
      "print(shuffle)\n",
      "print(deshuff)\n",
      "print(F.T)\n",
      "print(F[:,shuffle].T)\n",
      "print(F[:,shuffle][:,deshuff].T)"
     ],
     "language": "python",
     "metadata": {},
     "outputs": [
      {
       "output_type": "stream",
       "stream": "stdout",
       "text": [
        "[1, 2, 3, 0]\n",
        "[3 0 1 2]\n",
        "[[ 0.  0.  0.  0.  1.  1.  0.  0.  1.]\n",
        " [ 0.  0.  0.  1.  0.  0.  0.  1.  0.]\n",
        " [ 1.  1.  0.  0.  0.  0.  0.  0.  0.]\n",
        " [ 0.  0.  1.  0.  0.  0.  1.  0.  0.]]\n",
        "[[ 0.  0.  0.  1.  0.  0.  0.  1.  0.]\n",
        " [ 1.  1.  0.  0.  0.  0.  0.  0.  0.]\n",
        " [ 0.  0.  1.  0.  0.  0.  1.  0.  0.]\n",
        " [ 0.  0.  0.  0.  1.  1.  0.  0.  1.]]\n",
        "[[ 0.  0.  0.  0.  1.  1.  0.  0.  1.]\n",
        " [ 0.  0.  0.  1.  0.  0.  0.  1.  0.]\n",
        " [ 1.  1.  0.  0.  0.  0.  0.  0.  0.]\n",
        " [ 0.  0.  1.  0.  0.  0.  1.  0.  0.]]\n"
       ]
      }
     ],
     "prompt_number": 412
=======
     "prompt_number": 26
>>>>>>> efeb392c5d7a72e6d9e79ee90f25f2bf0e1b6b0c
    },
    {
     "cell_type": "code",
     "collapsed": false,
     "input": [
      "x = np.zeros([5,5])\n",
      "xi = np.ones(4)\n",
      "print(xi)\n",
      "rnd.shuffle(xi)\n",
      "print(xi)\n",
      "x[0,:len(xi)] = xi\n",
      "xi.fill?"
     ],
     "language": "python",
     "metadata": {},
     "outputs": [
      {
       "output_type": "stream",
       "stream": "stdout",
       "text": [
        "[ 1.  1.  1.  1.]\n",
        "[ 1.  1.  1.  1.]\n"
       ]
      }
     ],
     "prompt_number": 31
    },
    {
     "cell_type": "code",
     "collapsed": false,
     "input": [],
     "language": "python",
     "metadata": {},
     "outputs": [],
     "prompt_number": 32
    },
    {
     "cell_type": "code",
     "collapsed": false,
     "input": [
      "d = {}\n",
      "d[\"1\"] = np.ones(4)\n",
      "d[\"3\"] = np.zeros(6)\n",
      "p = d[\"1\"]\n",
      "p = np.concatenate( (p,np.zeros(6-len(p))), axis=1 )\n",
      "#d[\"1\"][:len(pold)] = pold\n",
      "print(d)\n",
      "ids = list(d.keys())"
     ],
     "language": "python",
     "metadata": {},
     "outputs": [
      {
       "output_type": "stream",
       "stream": "stdout",
       "text": [
        "{'3': array([ 0.,  0.,  0.,  0.,  0.,  0.]), '1': array([ 1.,  1.,  1.,  1.])}\n"
       ]
      }
     ],
     "prompt_number": 48
    },
    {
     "cell_type": "code",
     "collapsed": false,
     "input": [
      "ids"
     ],
     "language": "python",
     "metadata": {},
     "outputs": [
      {
       "metadata": {},
       "output_type": "pyout",
       "prompt_number": 49,
       "text": [
        "['3', '1']"
       ]
      }
     ],
     "prompt_number": 49
    },
    {
     "cell_type": "code",
     "collapsed": false,
     "input": [],
     "language": "python",
     "metadata": {},
     "outputs": []
    }
   ],
   "metadata": {}
  }
 ]
}