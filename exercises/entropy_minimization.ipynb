{
 "metadata": {
  "name": "",
  "signature": "sha256:d38a7716226a71564cebb0decd7c466258cb0262b5c4bf524653a7ec61ea86db"
 },
 "nbformat": 3,
 "nbformat_minor": 0,
 "worksheets": [
  {
   "cells": [
    {
     "cell_type": "code",
     "collapsed": false,
     "input": [
      "%matplotlib inline\n",
      "#from IPython.html.widgets import interactive, interact\n",
      "import numpy as np\n",
      "import numpy.random as rnd\n",
      "import matplotlib.pyplot as plt"
     ],
     "language": "python",
     "metadata": {},
     "outputs": [],
     "prompt_number": 3
    },
    {
     "cell_type": "code",
     "collapsed": false,
     "input": [
      "def normalize(x):\n",
      "    if(len(x.shape)==2):\n",
      "        return (x.T/np.sum(x,axis=1)).T\n",
      "    else:\n",
      "        return (x/np.sum(x))\n",
      "\n",
      "def entropy(p):\n",
      "    return - np.sum(p*np.nan_to_num(log(p)))\n",
      "\n",
      "def measure(f,noise=1.,shuffle=True):\n",
      "    n,k = f.shape\n",
      "    err = noise*rnd.rand(n,k)\n",
      "    idx = range(k)\n",
      "    idx_true = array(range(k))\n",
      "    if shuffle:\n",
      "        rnd.shuffle(idx)\n",
      "        idx_true = list(idx_true[np.argsort(idx)])\n",
      "        \n",
      "    Z = f[:,idx]\n",
      "    print(\"Z -> F: %s \\tF -> Z: %s\"%(idx_true,idx))\n",
      "    return normalize(Z+err),idx_true\n",
      "\n",
      "def predict(X,prob):\n",
      "    n,k=X.shape\n",
      "    p_t = np.ones([k,k])*(1.-prob)/(k-1.)\n",
      "    p_t[np.diag_indices_from(p_t)]=prob\n",
      "    for p in X:\n",
      "        p = p_t.dot(p)\n",
      "    return X\n",
      "\n",
      "def maxmax(M):\n",
      "    n,k = M.shape\n",
      "    v_min = 0\n",
      "    f = [np.argmax]*k\n",
      "    idx = [0]*k\n",
      "    for fi in f:\n",
      "        i,j = np.unravel_index(fi(M),M.shape)\n",
      "        M[i,:] = v_min\n",
      "        M[:,j] = v_min\n",
      "        idx[i]=j\n",
      "    return idx\n",
      "\n",
      "def maxmin(M):\n",
      "    n,k = M.shape\n",
      "    v_max = M.max()\n",
      "    f = [np.argmin]*k\n",
      "    f[0] = np.argmax\n",
      "    idx = [0]*k\n",
      "    for fi in f:\n",
      "        i,j = np.unravel_index(fi(M),M.shape)\n",
      "        M[i,:] = v_max\n",
      "        M[:,j] = v_max\n",
      "        idx[i]=j\n",
      "    return idx\n",
      "\n",
      "def indices(X,Z):\n",
      "    n,k=X.shape\n",
      "    cov = np.zeros([k,k])\n",
      "    for x,z in zip(X,Z):\n",
      "        #print(\"z=%s x=%s\"%(z,x))\n",
      "        cov += mat(x).T*mat(z)\n",
      "    idx = maxmax(cov)\n",
      "    print(\"Z -> X: %s\"%idx)\n",
      "    return idx\n",
      "\n",
      "def bruteforce(X,Z):\n",
      "    n,k=X.shape\n",
      "    Ah=np.array([[(0, 0),(0, 1),(0, 2),(0, 0),(0, 1),(0, 2)],\n",
      "                 [(1, 1),(1, 2),(1, 0),(1, 2),(1, 0),(1, 1)],\n",
      "                 [(2, 2),(2, 0),(2, 1),(2, 1),(2, 2),(2, 0)]])\n",
      "    A = (Ah[:,:,0]*K+Ah[:,:,1]).T\n",
      "    H = np.zeros([6,1])\n",
      "    for x,z in zip(X,Z):\n",
      "        cov = mat(x).T*mat(z)\n",
      "        #print(\"z=%s x=%s\"%(z,x))\n",
      "        zx = np.zeros([6,3])\n",
      "        for i in range(6):\n",
      "            zx[i,:] = cov[np.unravel_index(A[i,:],cov.shape)]\n",
      "            H[i] += entropy(normalize(zx[i,:]))\n",
      "            #print(\"%s,\\tH=%s\"%(zx[i,:],H[i]))\n",
      "        #print(\"\")\n",
      "    print(\"H(x,w) = %s\"%H.T)\n",
      "    w = np.argmin(H)\n",
      "    idx = list(Ah[:,w,1])\n",
      "    print(\"Bruteforce:\\t%s\"%idx)\n",
      "    return idx\n",
      "    #print(np.unravel_index(A[,:],(k,k)))"
     ],
     "language": "python",
     "metadata": {},
     "outputs": [],
     "prompt_number": 452
    },
    {
     "cell_type": "code",
     "collapsed": false,
     "input": [
      "np.set_printoptions(precision=3,suppress=True)\n",
      "K = 4 # number of clusters\n",
      "N = 10 # number of features\n",
      "measurement_noise = .1\n",
      "F=np.zeros([N,K])\n",
      "for i,v in enumerate(rnd.randint(0,K,N)): F[i,v]=1\n",
      "print(F.T)\n",
      "\n",
      "X,idx_true = measure(F,measurement_noise,False)\n",
      "for x in X.T: print(x)\n",
      "print(\"\")\n",
      "\n",
      "for i in range(3):\n",
      "    Z,idx_true = measure(F,measurement_noise)\n",
      "    X = predict(X,.2)\n",
      "    #idx1 = bruteforce(X,Z)\n",
      "    idx2 = indices(X,Z)\n",
      "    X = normalize(Z[:,idx2]*X)\n",
      "    #for z in Z[:,idx_true].T: print(z)\n",
      "    #print(\"\")\n",
      "    #for x in X.T: print(x)\n",
      "    #print(\"\")\n",
      "\n",
      "print(X.T)\n",
      "print(\"\")\n",
      "\n",
      "#F=np.zeros([N,K])\n",
      "reset=10\n",
      "for i,v in zip(rnd.randint(0,N,reset),rnd.randint(0,K,reset)):\n",
      "    print(\"Reset: %s,%s\"%(i,v))\n",
      "    F[i,:]=0\n",
      "    F[i,v]=1\n",
      "print(F.T)\n",
      "for i in range(5):\n",
      "    Z,idx_true = measure(F,measurement_noise)\n",
      "    X = predict(X,.2)\n",
      "    idx2 = indices(X,Z)\n",
      "    X = normalize(Z[:,idx2]*X)\n",
      "print(X.T)\n",
      "print(\"\")"
     ],
     "language": "python",
     "metadata": {},
     "outputs": [
      {
       "output_type": "stream",
       "stream": "stdout",
       "text": [
        "[[ 0.  0.  0.  0.  0.  0.  0.  0.  0.  0.]\n",
        " [ 0.  0.  0.  1.  1.  0.  0.  0.  0.  0.]\n",
        " [ 0.  0.  0.  0.  0.  1.  0.  0.  0.  0.]\n",
        " [ 1.  1.  1.  0.  0.  0.  1.  1.  1.  1.]]\n",
        "Z -> F: [0 1 2 3] \tF -> Z: [0, 1, 2, 3]\n",
        "[ 0.004  0.066  0.013  0.074  0.039  0.082  0.012  0.029  0.033  0.009]\n",
        "[ 0.021  0.028  0.027  0.827  0.91   0.004  0.056  0.011  0.069  0.063]\n",
        "[ 0.063  0.036  0.019  0.051  0.012  0.863  0.055  0.041  0.054  0.031]\n",
        "[ 0.911  0.87   0.94   0.048  0.04   0.05   0.877  0.918  0.844  0.897]\n",
        "\n",
        "Z -> F: [0, 1, 3, 2] \tF -> Z: [0, 1, 3, 2]\n",
        "Z -> X: [0, 1, 3, 2]\n",
        "Z -> F: [3, 0, 2, 1] \tF -> Z: [1, 3, 2, 0]\n",
        "Z -> X: [3, 0, 2, 1]\n",
        "Z -> F: [1, 3, 0, 2] \tF -> Z: [2, 0, 3, 1]\n",
        "Z -> X: [1, 3, 0, 2]\n",
        "[[ 0.  0.  0.  0.  0.  0.  0.  0.  0.  0.]\n",
        " [ 0.  0.  0.  1.  1.  0.  0.  0.  0.  0.]\n",
        " [ 0.  0.  0.  0.  0.  1.  0.  0.  0.  0.]\n",
        " [ 1.  1.  1.  0.  0.  0.  1.  1.  1.  1.]]\n",
        "\n",
        "Reset: 1,3\n",
        "Reset: 2,2\n",
        "Reset: 5,0\n",
        "Reset: 7,0\n",
        "Reset: 6,0\n",
        "Reset: 4,3\n",
        "Reset: 0,2\n",
        "Reset: 7,0\n",
        "Reset: 1,3\n",
        "Reset: 3,0\n",
        "[[ 0.  0.  0.  1.  0.  1.  1.  1.  0.  0.]\n",
        " [ 0.  0.  0.  0.  0.  0.  0.  0.  0.  0.]\n",
        " [ 1.  0.  1.  0.  0.  0.  0.  0.  0.  0.]\n",
        " [ 0.  1.  0.  0.  1.  0.  0.  0.  1.  1.]]\n",
        "Z -> F: [3, 0, 1, 2] \tF -> Z: [1, 2, 3, 0]\n",
        "Z -> X: [0, 3, 1, 2]\n",
        "Z -> F: [0, 1, 3, 2] \tF -> Z: [0, 1, 3, 2]\n",
        "Z -> X: [3, 0, 1, 2]\n",
        "Z -> F: [3, 1, 2, 0] \tF -> Z: [3, 1, 2, 0]\n",
        "Z -> X: [2, 3, 1, 0]\n",
        "Z -> F: [3, 0, 1, 2] \tF -> Z: [1, 2, 3, 0]\n",
        "Z -> X: [1, 3, 0, 2]\n",
        "Z -> F: [1, 3, 2, 0] \tF -> Z: [3, 0, 2, 1]\n",
        "Z -> X: [2, 1, 3, 0]\n",
        "[[ 0.001  0.     0.829  0.     0.     0.     0.     0.     0.     0.   ]\n",
        " [ 0.     0.     0.001  1.     0.205  0.065  0.815  0.993  0.     0.   ]\n",
        " [ 0.     0.     0.     0.     0.     0.935  0.     0.     0.     0.   ]\n",
        " [ 0.999  1.     0.17   0.     0.795  0.     0.185  0.007  1.     1.   ]]\n",
        "\n"
       ]
      }
     ],
     "prompt_number": 484
    },
    {
     "cell_type": "code",
     "collapsed": false,
     "input": [
      "rnd.randint(0,N,4)"
     ],
     "language": "python",
     "metadata": {},
     "outputs": [
      {
       "metadata": {},
       "output_type": "pyout",
       "prompt_number": 475,
       "text": [
        "array([6, 5, 2, 0])"
       ]
      }
     ],
     "prompt_number": 475
    },
    {
     "cell_type": "code",
     "collapsed": false,
     "input": [],
     "language": "python",
     "metadata": {},
     "outputs": [
      {
       "metadata": {},
       "output_type": "pyout",
       "prompt_number": 382,
       "text": [
        "array([[ 1.,  0.,  0.],\n",
        "       [ 1.,  0.,  0.],\n",
        "       [ 1.,  0.,  0.],\n",
        "       [ 0.,  1.,  0.],\n",
        "       [ 0.,  1.,  0.],\n",
        "       [ 0.,  1.,  0.],\n",
        "       [ 1.,  0.,  0.],\n",
        "       [ 1.,  0.,  0.],\n",
        "       [ 0.,  0.,  1.]])"
       ]
      }
     ],
     "prompt_number": 382
    },
    {
     "cell_type": "code",
     "collapsed": false,
     "input": [
      "shuffle = range(F.shape[1])\n",
      "rnd.shuffle(shuffle)\n",
      "deshuff = array(range(F.shape[1]))\n",
      "deshuff = deshuff[np.argsort(shuffle)]\n",
      "print(shuffle)\n",
      "print(deshuff)\n",
      "print(F.T)\n",
      "print(F[:,shuffle].T)\n",
      "print(F[:,shuffle][:,deshuff].T)"
     ],
     "language": "python",
     "metadata": {},
     "outputs": [
      {
       "output_type": "stream",
       "stream": "stdout",
       "text": [
        "[1, 2, 3, 0]\n",
        "[3 0 1 2]\n",
        "[[ 0.  0.  0.  0.  1.  1.  0.  0.  1.]\n",
        " [ 0.  0.  0.  1.  0.  0.  0.  1.  0.]\n",
        " [ 1.  1.  0.  0.  0.  0.  0.  0.  0.]\n",
        " [ 0.  0.  1.  0.  0.  0.  1.  0.  0.]]\n",
        "[[ 0.  0.  0.  1.  0.  0.  0.  1.  0.]\n",
        " [ 1.  1.  0.  0.  0.  0.  0.  0.  0.]\n",
        " [ 0.  0.  1.  0.  0.  0.  1.  0.  0.]\n",
        " [ 0.  0.  0.  0.  1.  1.  0.  0.  1.]]\n",
        "[[ 0.  0.  0.  0.  1.  1.  0.  0.  1.]\n",
        " [ 0.  0.  0.  1.  0.  0.  0.  1.  0.]\n",
        " [ 1.  1.  0.  0.  0.  0.  0.  0.  0.]\n",
        " [ 0.  0.  1.  0.  0.  0.  1.  0.  0.]]\n"
       ]
      }
     ],
     "prompt_number": 412
    },
    {
     "cell_type": "code",
     "collapsed": false,
     "input": [
      "idx = range(cov.shape[1])\n",
      "print(idx)\n",
      "i1 = np.argmax(cov[0,idx])\n",
      "print(i1)\n",
      "i2 = np.argmax(cov[1,[1,2]])\n",
      "print(i2)"
     ],
     "language": "python",
     "metadata": {},
     "outputs": [
      {
       "output_type": "stream",
       "stream": "stdout",
       "text": [
        "[0, 1, 2]\n",
        "0\n",
        "0\n"
       ]
      }
     ],
     "prompt_number": 106
    },
    {
     "cell_type": "code",
     "collapsed": false,
     "input": [
      "np.argmax?"
     ],
     "language": "python",
     "metadata": {},
     "outputs": [],
     "prompt_number": 107
    },
    {
     "cell_type": "code",
     "collapsed": false,
     "input": [
      "\"test %s \"%str(range(3))"
     ],
     "language": "python",
     "metadata": {},
     "outputs": [
      {
       "metadata": {},
       "output_type": "pyout",
       "prompt_number": 135,
       "text": [
        "'test [0, 1, 2] '"
       ]
      }
     ],
     "prompt_number": 135
    },
    {
     "cell_type": "code",
     "collapsed": false,
     "input": [
      "print(0.0001245)"
     ],
     "language": "python",
     "metadata": {},
     "outputs": [
      {
       "output_type": "stream",
       "stream": "stdout",
       "text": [
        "0.0001245\n"
       ]
      }
     ],
     "prompt_number": 265
    },
    {
     "cell_type": "code",
     "collapsed": false,
     "input": [
      "A=np.array([[(0, 0),(0, 1),(0, 2),(0, 0),(0, 1),(0, 2)],\n",
      "            [(1, 1),(1, 2),(1, 0),(1, 2),(1, 0),(1, 1)],\n",
      "            [(2, 2),(2, 0),(2, 1),(2, 1),(2, 2),(2, 0)]])\n",
      "A = (A[:,:,0]*K+A[:,:,1]).T"
     ],
     "language": "python",
     "metadata": {},
     "outputs": [],
     "prompt_number": 210
    },
    {
     "cell_type": "code",
     "collapsed": false,
     "input": [],
     "language": "python",
     "metadata": {},
     "outputs": [
      {
       "metadata": {},
       "output_type": "pyout",
       "prompt_number": 227,
       "text": [
        "array([ 1.0112235 , -1.18028216,  1.09167747])"
       ]
      }
     ],
     "prompt_number": 227
    },
    {
     "cell_type": "code",
     "collapsed": false,
     "input": [
      "len(cov[np.unravel_index(A[0,:],cov.shape)].shape)"
     ],
     "language": "python",
     "metadata": {},
     "outputs": [
      {
       "metadata": {},
       "output_type": "pyout",
       "prompt_number": 239,
       "text": [
        "1"
       ]
      }
     ],
     "prompt_number": 239
    },
    {
     "cell_type": "code",
     "collapsed": false,
     "input": [
      "list(cov[0,:])"
     ],
     "language": "python",
     "metadata": {},
     "outputs": [
      {
       "metadata": {},
       "output_type": "pyout",
       "prompt_number": 308,
       "text": [
        "[-0.89049256050789316, 1.0112235012159285, 0.2216815554727426]"
       ]
      }
     ],
     "prompt_number": 308
    },
    {
     "cell_type": "code",
     "collapsed": false,
     "input": [
      "i,j = np.unravel_index(np.argmax(cov),cov.shape)"
     ],
     "language": "python",
     "metadata": {},
     "outputs": [],
     "prompt_number": 327
    },
    {
     "cell_type": "code",
     "collapsed": false,
     "input": [
      "cov"
     ],
     "language": "python",
     "metadata": {},
     "outputs": [
      {
       "metadata": {},
       "output_type": "pyout",
       "prompt_number": 332,
       "text": [
        "array([[-0.89049,  1.01122,  0.22168],\n",
        "       [-0.14864,  1.3218 , -1.18028],\n",
        "       [ 1.09168, -2.66944, -0.70945]])"
       ]
      }
     ],
     "prompt_number": 332
    },
    {
     "cell_type": "code",
     "collapsed": false,
     "input": [
      "def max_min(M):\n",
      "    n,k = M.shape\n",
      "    v_max = M.max()\n",
      "    f = [np.argmin]*k\n",
      "    f[0] = np.argmax\n",
      "    idx = [0]*k\n",
      "    for fi in f:\n",
      "        print(M)\n",
      "        i,j = np.unravel_index(fi(M),M.shape)\n",
      "        M[i,:] = v_max\n",
      "        M[:,j] = v_max\n",
      "        idx[i]=j\n",
      "    return idx"
     ],
     "language": "python",
     "metadata": {},
     "outputs": [],
     "prompt_number": 341
    },
    {
     "cell_type": "code",
     "collapsed": false,
     "input": [
      "max_min(rnd.randn(3,3))"
     ],
     "language": "python",
     "metadata": {},
     "outputs": [
      {
       "output_type": "stream",
       "stream": "stdout",
       "text": [
        "[[ 1.44654 -0.56993  0.04843]\n",
        " [ 1.03276 -1.3962   0.91867]\n",
        " [-0.72783 -0.19816 -0.28424]]\n",
        "[[ 1.44654  1.44654  1.44654]\n",
        " [ 1.44654 -1.3962   0.91867]\n",
        " [ 1.44654 -0.19816 -0.28424]]\n",
        "[[ 1.44654  1.44654  1.44654]\n",
        " [ 1.44654  1.44654  1.44654]\n",
        " [ 1.44654  1.44654 -0.28424]]\n"
       ]
      },
      {
       "metadata": {},
       "output_type": "pyout",
       "prompt_number": 353,
       "text": [
        "[0, 1, 2]"
       ]
      }
     ],
     "prompt_number": 353
    },
    {
     "cell_type": "code",
     "collapsed": false,
     "input": [
      "idx = range(5)\n",
      "rnd.shuffle(idx)\n",
      "idx_shuff = np.array(idx)\n",
      "idx_deshuff = np.array(range(5))\n",
      "print(idx_shuff,idx_deshuff[idx_shuff])"
     ],
     "language": "python",
     "metadata": {},
     "outputs": [
      {
       "output_type": "stream",
       "stream": "stdout",
       "text": [
        "(array([0, 4, 2, 1, 3]), array([0, 4, 2, 1, 3]))\n"
       ]
      }
     ],
     "prompt_number": 405
    },
    {
     "cell_type": "code",
     "collapsed": false,
     "input": [
      "x = np.array(range(5))\n",
      "print(x)"
     ],
     "language": "python",
     "metadata": {},
     "outputs": [
      {
       "output_type": "stream",
       "stream": "stdout",
       "text": [
        "[0 1 2 3 4]\n"
       ]
      }
     ],
     "prompt_number": 437
    },
    {
     "cell_type": "code",
     "collapsed": false,
     "input": [
      "x[ [4,4] ]"
     ],
     "language": "python",
     "metadata": {},
     "outputs": [
      {
       "metadata": {},
       "output_type": "pyout",
       "prompt_number": 439,
       "text": [
        "array([4, 4])"
       ]
      }
     ],
     "prompt_number": 439
    },
    {
     "cell_type": "code",
     "collapsed": false,
     "input": [],
     "language": "python",
     "metadata": {},
     "outputs": []
    }
   ],
   "metadata": {}
  }
 ]
}