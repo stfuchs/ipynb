{
 "metadata": {
  "name": "",
  "signature": "sha256:5c81553de3eaa9cbc67a32dd17f550db3a46c7b69aaf6402576505dc45874f6f"
 },
 "nbformat": 3,
 "nbformat_minor": 0,
 "worksheets": [
  {
   "cells": [
    {
     "cell_type": "code",
     "collapsed": false,
     "input": [
      "%matplotlib inline\n",
      "import numpy as np\n",
      "import matplotlib.pyplot as plt\n",
      "np.set_printoptions(precision=4,suppress=True)"
     ],
     "language": "python",
     "metadata": {},
     "outputs": [],
     "prompt_number": 16
    },
    {
     "cell_type": "code",
     "collapsed": false,
     "input": [
      "sn = 5\n",
      "an = 2\n",
      "gamma = .9\n",
      "R = np.zeros([an,sn])\n",
      "R[0,0] = 1.\n",
      "R[1,4] = 10.\n",
      "print(\"Reward matrix R(a,s):\\n%s\"%R)"
     ],
     "language": "python",
     "metadata": {},
     "outputs": [
      {
       "output_type": "stream",
       "stream": "stdout",
       "text": [
        "Reward matrix R(a,s):\n",
        "[[  1.   0.   0.   0.   0.]\n",
        " [  0.   0.   0.   0.  10.]]\n"
       ]
      }
     ],
     "prompt_number": 17
    },
    {
     "cell_type": "code",
     "collapsed": false,
     "input": [
      "T = np.zeros([an,sn,sn])\n",
      "T[0,:,0] = 1.\n",
      "print(\"Transition matrix T(a=0,s,s'):\\n%s\"%T[0,:,:])"
     ],
     "language": "python",
     "metadata": {},
     "outputs": [
      {
       "output_type": "stream",
       "stream": "stdout",
       "text": [
        "Transition matrix T(a=0,s,s'):\n",
        "[[ 1.  0.  0.  0.  0.]\n",
        " [ 1.  0.  0.  0.  0.]\n",
        " [ 1.  0.  0.  0.  0.]\n",
        " [ 1.  0.  0.  0.  0.]\n",
        " [ 1.  0.  0.  0.  0.]]\n"
       ]
      }
     ],
     "prompt_number": 18
    },
    {
     "cell_type": "code",
     "collapsed": false,
     "input": [
      "for i in range(sn-1):\n",
      "    T[1,i,i+1]=1.\n",
      "T[1,-1,-1]=1.\n",
      "print(\"Transition matrix T(a=1,s,s'):\\n%s\"%T[1,:,:])"
     ],
     "language": "python",
     "metadata": {},
     "outputs": [
      {
       "output_type": "stream",
       "stream": "stdout",
       "text": [
        "Transition matrix T(a=1,s,s'):\n",
        "[[ 0.  1.  0.  0.  0.]\n",
        " [ 0.  0.  1.  0.  0.]\n",
        " [ 0.  0.  0.  1.  0.]\n",
        " [ 0.  0.  0.  0.  1.]\n",
        " [ 0.  0.  0.  0.  1.]]\n"
       ]
      }
     ],
     "prompt_number": 19
    },
    {
     "cell_type": "markdown",
     "metadata": {},
     "source": [
      "### Problem 2: Value Iteration\n",
      "\n",
      "$$ \\mathbf{v}_{t+1} = \\underset{a\\in A}{\\text{max}} \\left\\{ \\mathbf{r}_a +  \\gamma \\mathbf{T}_a \\mathbf{v}_t \\right\\} $$\n"
     ]
    },
    {
     "cell_type": "code",
     "collapsed": false,
     "input": [
      "v = [np.zeros([sn])]\n",
      "vn = 1.\n",
      "improve = lambda value : np.vstack(map(lambda a : R[a] + gamma*T[a].dot(value), range(an)))\n",
      "while(vn>.0001):\n",
      "    vi = improve(v[-1])\n",
      "    pi = np.argmax(vi,axis=0)\n",
      "    v.append(np.max(vi,axis=0))\n",
      "    vn = np.linalg.norm(v[-1]-v[-2])\n",
      "    \n",
      "print(\"iterations: %s\"%len(v))\n",
      "print(\"values:     %s\"%v[-1])\n",
      "print(\"actions:    %s\"%pi)"
     ],
     "language": "python",
     "metadata": {},
     "outputs": [
      {
       "output_type": "stream",
       "stream": "stdout",
       "text": [
        "iterations: 119\n",
        "values:     [ 65.6096  72.8996  80.9996  89.9996  99.9996]\n",
        "actions:    [1 1 1 1 1]\n"
       ]
      }
     ],
     "prompt_number": 20
    },
    {
     "cell_type": "code",
     "collapsed": false,
     "input": [
      "vnn = [np.linalg.norm(vi-v[-1]) for vi in v]\n",
      "plt.figure(figsize=(12,8))\n",
      "plt.grid()\n",
      "plt.plot(vnn)"
     ],
     "language": "python",
     "metadata": {},
     "outputs": [
      {
       "metadata": {},
       "output_type": "pyout",
       "prompt_number": 21,
       "text": [
        "[<matplotlib.lines.Line2D at 0x7fe5e40f4518>]"
       ]
      },
      {
       "metadata": {},
       "output_type": "display_data",
       "png": "[encoded data removed]",
       "text": [
        "<matplotlib.figure.Figure at 0x7fe5e41505c0>"
       ]
      }
     ],
     "prompt_number": 21
    },
    {
     "cell_type": "markdown",
     "metadata": {},
     "source": [
      "### Problem 4: Policy Iteration\n",
      "\n",
      "$$ \\mathbf{v}_{\\pi_t} = \\left( \\mathbf{I} - \\gamma \\mathbf{T}_{pi_i} \\right)^{-1} +\\mathbf{r}_{pi_i}$$\n",
      "\n",
      "$$ \\pi_{t+1} = \\underset{a\\in A}{\\text{argmax}} \\left\\{ \\mathbf{r}_a +  \\gamma \\mathbf{T}_a \\mathbf{v}_{\\pi_t} \\right\\} $$\n"
     ]
    },
    {
     "cell_type": "code",
     "collapsed": false,
     "input": [
      "select = lambda M,policy : np.vstack(map(lambda a, s : M[a,s], policy, range(sn)))\n",
      "improve = lambda value : np.vstack(map(lambda a : R[a] + gamma*T[a].dot(value), range(an)))\n",
      "\n",
      "pi = np.zeros([sn])\n",
      "for i in range(7):\n",
      "    v = (np.linalg.inv(np.identity(sn)-gamma*select(T,pi)).dot(select(R,pi))).T[0]\n",
      "    vi = improve(v)\n",
      "    pi = np.argmax(vi,axis=0)\n",
      "    print(\"values:  %s\"%v)\n",
      "    print(\"actions: %s\\n\"%pi)"
     ],
     "language": "python",
     "metadata": {},
     "outputs": [
      {
       "output_type": "stream",
       "stream": "stdout",
       "text": [
        "values:  [ 10.   9.   9.   9.   9.]\n",
        "actions: [0 0 0 0 1]\n",
        "\n",
        "values:  [  10.    9.    9.    9.  100.]\n",
        "actions: [0 0 0 1 1]\n",
        "\n",
        "values:  [  10.    9.    9.   90.  100.]\n",
        "actions: [0 0 1 1 1]\n",
        "\n",
        "values:  [  10.    9.   81.   90.  100.]\n",
        "actions: [0 1 1 1 1]\n",
        "\n",
        "values:  [  10.    72.9   81.    90.   100. ]\n",
        "actions: [1 1 1 1 1]\n",
        "\n",
        "values:  [  65.61   72.9    81.     90.    100.  ]\n",
        "actions: [1 1 1 1 1]\n",
        "\n",
        "values:  [  65.61   72.9    81.     90.    100.  ]\n",
        "actions: [1 1 1 1 1]\n",
        "\n"
       ]
      }
     ],
     "prompt_number": 22
    },
    {
     "cell_type": "code",
     "collapsed": false,
     "input": [],
     "language": "python",
     "metadata": {},
     "outputs": [],
     "prompt_number": 22
    }
   ],
   "metadata": {}
  }
 ]
}