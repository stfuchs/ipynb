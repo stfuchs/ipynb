{
 "metadata": {
  "name": "",
  "signature": "sha256:ba686cb96b38bdd8d945817a8d7fc091f5cf5bb4c62435700454e3e6b971ce27"
 },
 "nbformat": 3,
 "nbformat_minor": 0,
 "worksheets": [
  {
   "cells": [
    {
     "cell_type": "code",
     "collapsed": false,
     "input": [
      "%matplotlib inline\n",
      "import numpy as np\n",
      "np.set_printoptions(precision=4,suppress=True)"
     ],
     "language": "python",
     "metadata": {},
     "outputs": [],
     "prompt_number": 86
    },
    {
     "cell_type": "code",
     "collapsed": false,
     "input": [
      "sn = 5\n",
      "an = 2\n",
      "gamma = .9\n",
      "R = np.zeros([an,sn])\n",
      "R[0,0] = 1.\n",
      "R[1,4] = 10.\n",
      "print(\"Reward matrix R(a,s):\\n%s\"%R)"
     ],
     "language": "python",
     "metadata": {},
     "outputs": [
      {
       "output_type": "stream",
       "stream": "stdout",
       "text": [
        "Reward matrix R(a,s):\n",
        "[[  1.   0.   0.   0.   0.]\n",
        " [  0.   0.   0.   0.  10.]]\n"
       ]
      }
     ],
     "prompt_number": 87
    },
    {
     "cell_type": "code",
     "collapsed": false,
     "input": [
      "T = np.zeros([an,sn,sn])\n",
      "T[0,:,0] = 1.\n",
      "print(\"Transition matrix T(a=0,s,s'):\\n%s\"%T[0,:,:])"
     ],
     "language": "python",
     "metadata": {},
     "outputs": [
      {
       "output_type": "stream",
       "stream": "stdout",
       "text": [
        "Transition matrix T(a=0,s,s'):\n",
        "[[ 1.  0.  0.  0.  0.]\n",
        " [ 1.  0.  0.  0.  0.]\n",
        " [ 1.  0.  0.  0.  0.]\n",
        " [ 1.  0.  0.  0.  0.]\n",
        " [ 1.  0.  0.  0.  0.]]\n"
       ]
      }
     ],
     "prompt_number": 88
    },
    {
     "cell_type": "code",
     "collapsed": false,
     "input": [
      "for i in range(sn-1):\n",
      "    T[1,i,i+1]=1.\n",
      "T[1,-1,-1]=1.\n",
      "print(\"Transition matrix T(a=1,s,s'):\\n%s\"%T[1,:,:])"
     ],
     "language": "python",
     "metadata": {},
     "outputs": [
      {
       "output_type": "stream",
       "stream": "stdout",
       "text": [
        "Transition matrix T(a=1,s,s'):\n",
        "[[ 0.  1.  0.  0.  0.]\n",
        " [ 0.  0.  1.  0.  0.]\n",
        " [ 0.  0.  0.  1.  0.]\n",
        " [ 0.  0.  0.  0.  1.]\n",
        " [ 0.  0.  0.  0.  1.]]\n"
       ]
      }
     ],
     "prompt_number": 89
    },
    {
     "cell_type": "code",
     "collapsed": false,
     "input": [
      "v = np.zeros([sn])\n",
      "improve = lambda value : np.vstack(map(lambda a : R[a] + gamma*T[a].dot(value), range(an)))\n",
      "for i in range(50):\n",
      "    vi = improve(v)\n",
      "    pi = np.argmax(vi,axis=0)\n",
      "    v = np.max(vi,axis=0)\n",
      "    print(\"values:  %s\"%v)\n",
      "    print(\"actions: %s\"%pi)"
     ],
     "language": "python",
     "metadata": {},
     "outputs": [
      {
       "output_type": "stream",
       "stream": "stdout",
       "text": [
        "values:  [  1.   0.   0.   0.  10.]\n",
        "actions: [0 0 0 0 1]\n",
        "values:  [  1.9   0.9   0.9   9.   19. ]\n",
        "actions: [0 0 0 1 1]\n",
        "values:  [  2.71   1.71   8.1   17.1   27.1 ]\n",
        "actions: [0 0 1 1 1]\n",
        "values:  [  3.439   7.29   15.39   24.39   34.39 ]\n",
        "actions: [0 1 1 1 1]\n",
        "values:  [  6.561  13.851  21.951  30.951  40.951]\n",
        "actions: [1 1 1 1 1]\n",
        "values:  [ 12.4659  19.7559  27.8559  36.8559  46.8559]\n",
        "actions: [1 1 1 1 1]\n",
        "values:  [ 17.7803  25.0703  33.1703  42.1703  52.1703]\n",
        "actions: [1 1 1 1 1]\n",
        "values:  [ 22.5633  29.8533  37.9533  46.9533  56.9533]\n",
        "actions: [1 1 1 1 1]\n",
        "values:  [ 26.868  34.158  42.258  51.258  61.258]\n",
        "actions: [1 1 1 1 1]\n",
        "values:  [ 30.7422  38.0322  46.1322  55.1322  65.1322]\n",
        "actions: [1 1 1 1 1]\n",
        "values:  [ 34.2289  41.5189  49.6189  58.6189  68.6189]\n",
        "actions: [1 1 1 1 1]\n",
        "values:  [ 37.367  44.657  52.757  61.757  71.757]\n",
        "actions: [1 1 1 1 1]\n",
        "values:  [ 40.1913  47.4813  55.5813  64.5813  74.5813]\n",
        "actions: [1 1 1 1 1]\n",
        "values:  [ 42.7332  50.0232  58.1232  67.1232  77.1232]\n",
        "actions: [1 1 1 1 1]\n",
        "values:  [ 45.0209  52.3109  60.4109  69.4109  79.4109]\n",
        "actions: [1 1 1 1 1]\n",
        "values:  [ 47.0798  54.3698  62.4698  71.4698  81.4698]\n",
        "actions: [1 1 1 1 1]\n",
        "values:  [ 48.9328  56.2228  64.3228  73.3228  83.3228]\n",
        "actions: [1 1 1 1 1]\n",
        "values:  [ 50.6005  57.8905  65.9905  74.9905  84.9905]\n",
        "actions: [1 1 1 1 1]\n",
        "values:  [ 52.1015  59.3915  67.4915  76.4915  86.4915]\n",
        "actions: [1 1 1 1 1]\n",
        "values:  [ 53.4523  60.7423  68.8423  77.8423  87.8423]\n",
        "actions: [1 1 1 1 1]\n",
        "values:  [ 54.6681  61.9581  70.0581  79.0581  89.0581]\n",
        "actions: [1 1 1 1 1]\n",
        "values:  [ 55.7623  63.0523  71.1523  80.1523  90.1523]\n",
        "actions: [1 1 1 1 1]\n",
        "values:  [ 56.7471  64.0371  72.1371  81.1371  91.1371]\n",
        "actions: [1 1 1 1 1]\n",
        "values:  [ 57.6334  64.9234  73.0234  82.0234  92.0234]\n",
        "actions: [1 1 1 1 1]\n",
        "values:  [ 58.431  65.721  73.821  82.821  92.821]\n",
        "actions: [1 1 1 1 1]\n",
        "values:  [ 59.1489  66.4389  74.5389  83.5389  93.5389]\n",
        "actions: [1 1 1 1 1]\n",
        "values:  [ 59.795  67.085  75.185  84.185  94.185]\n",
        "actions: [1 1 1 1 1]\n",
        "values:  [ 60.3765  67.6665  75.7665  84.7665  94.7665]\n",
        "actions: [1 1 1 1 1]\n",
        "values:  [ 60.8999  68.1899  76.2899  85.2899  95.2899]\n",
        "actions: [1 1 1 1 1]\n",
        "values:  [ 61.3709  68.6609  76.7609  85.7609  95.7609]\n",
        "actions: [1 1 1 1 1]\n",
        "values:  [ 61.7948  69.0848  77.1848  86.1848  96.1848]\n",
        "actions: [1 1 1 1 1]\n",
        "values:  [ 62.1763  69.4663  77.5663  86.5663  96.5663]\n",
        "actions: [1 1 1 1 1]\n",
        "values:  [ 62.5197  69.8097  77.9097  86.9097  96.9097]\n",
        "actions: [1 1 1 1 1]\n",
        "values:  [ 62.8287  70.1187  78.2187  87.2187  97.2187]\n",
        "actions: [1 1 1 1 1]\n",
        "values:  [ 63.1068  70.3968  78.4968  87.4968  97.4968]\n",
        "actions: [1 1 1 1 1]\n",
        "values:  [ 63.3572  70.6472  78.7472  87.7472  97.7472]\n",
        "actions: [1 1 1 1 1]\n",
        "values:  [ 63.5824  70.8724  78.9724  87.9724  97.9724]\n",
        "actions: [1 1 1 1 1]\n",
        "values:  [ 63.7852  71.0752  79.1752  88.1752  98.1752]\n",
        "actions: [1 1 1 1 1]\n",
        "values:  [ 63.9677  71.2577  79.3577  88.3577  98.3577]\n",
        "actions: [1 1 1 1 1]\n",
        "values:  [ 64.1319  71.4219  79.5219  88.5219  98.5219]\n",
        "actions: [1 1 1 1 1]\n",
        "values:  [ 64.2797  71.5697  79.6697  88.6697  98.6697]\n",
        "actions: [1 1 1 1 1]\n",
        "values:  [ 64.4127  71.7027  79.8027  88.8027  98.8027]\n",
        "actions: [1 1 1 1 1]\n",
        "values:  [ 64.5325  71.8225  79.9225  88.9225  98.9225]\n",
        "actions: [1 1 1 1 1]\n",
        "values:  [ 64.6402  71.9302  80.0302  89.0302  99.0302]\n",
        "actions: [1 1 1 1 1]\n",
        "values:  [ 64.7372  72.0272  80.1272  89.1272  99.1272]\n",
        "actions: [1 1 1 1 1]\n",
        "values:  [ 64.8245  72.1145  80.2145  89.2145  99.2145]\n",
        "actions: [1 1 1 1 1]\n",
        "values:  [ 64.903  72.193  80.293  89.293  99.293]\n",
        "actions: [1 1 1 1 1]\n",
        "values:  [ 64.9737  72.2637  80.3637  89.3637  99.3637]\n",
        "actions: [1 1 1 1 1]\n",
        "values:  [ 65.0374  72.3274  80.4274  89.4274  99.4274]\n",
        "actions: [1 1 1 1 1]\n",
        "values:  [ 65.0946  72.3846  80.4846  89.4846  99.4846]\n",
        "actions: [1 1 1 1 1]\n"
       ]
      }
     ],
     "prompt_number": 90
    },
    {
     "cell_type": "code",
     "collapsed": false,
     "input": [
      "select = lambda M,policy : np.vstack(map(lambda a, s : M[a,s], policy, range(sn)))\n",
      "improve = lambda value : np.vstack(map(lambda a : R[a] + gamma*T[a].dot(value), range(an)))\n",
      "\n",
      "pi = np.zeros([sn])\n",
      "for i in range(7):\n",
      "    v = (np.linalg.inv(np.identity(sn)-gamma*select(T,pi)).dot(select(R,pi))).T[0]\n",
      "    vi = improve(v)\n",
      "    pi = np.argmax(vi,axis=0)\n",
      "    print(\"values:  %s\"%v)\n",
      "    print(\"actions: %s\\n\"%pi)"
     ],
     "language": "python",
     "metadata": {},
     "outputs": [
      {
       "output_type": "stream",
       "stream": "stdout",
       "text": [
        "values:  [ 10.   9.   9.   9.   9.]\n",
        "actions: [0 0 0 0 1]\n",
        "\n",
        "values:  [  10.    9.    9.    9.  100.]\n",
        "actions: [0 0 0 1 1]\n",
        "\n",
        "values:  [  10.    9.    9.   90.  100.]\n",
        "actions: [0 0 1 1 1]\n",
        "\n",
        "values:  [  10.    9.   81.   90.  100.]\n",
        "actions: [0 1 1 1 1]\n",
        "\n",
        "values:  [  10.    72.9   81.    90.   100. ]\n",
        "actions: [1 1 1 1 1]\n",
        "\n",
        "values:  [  65.61   72.9    81.     90.    100.  ]\n",
        "actions: [1 1 1 1 1]\n",
        "\n",
        "values:  [  65.61   72.9    81.     90.    100.  ]\n",
        "actions: [1 1 1 1 1]\n",
        "\n"
       ]
      }
     ],
     "prompt_number": 91
    },
    {
     "cell_type": "code",
     "collapsed": false,
     "input": [],
     "language": "python",
     "metadata": {},
     "outputs": [],
     "prompt_number": 91
    }
   ],
   "metadata": {}
  }
 ]
}